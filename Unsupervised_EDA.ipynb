{
  "nbformat": 4,
  "nbformat_minor": 0,
  "metadata": {
    "colab": {
      "provenance": [],
      "mount_file_id": "1A7z6uff2IDEtPhZ0uLVjDqlIRgu-FTk3",
      "authorship_tag": "ABX9TyMfcGtHsYieAOekTqyB50Ij",
      "include_colab_link": true
    },
    "kernelspec": {
      "name": "python3",
      "display_name": "Python 3"
    },
    "language_info": {
      "name": "python"
    }
  },
  "cells": [
    {
      "cell_type": "markdown",
      "metadata": {
        "id": "view-in-github",
        "colab_type": "text"
      },
      "source": [
        "<a href=\"https://colab.research.google.com/github/Miller76lite/GEOL558/blob/main/Unsupervised_EDA.ipynb\" target=\"_parent\"><img src=\"https://colab.research.google.com/assets/colab-badge.svg\" alt=\"Open In Colab\"/></a>"
      ]
    },
    {
      "cell_type": "code",
      "execution_count": 11,
      "metadata": {
        "colab": {
          "base_uri": "https://localhost:8080/"
        },
        "id": "4jw4qgFXHvPY",
        "outputId": "68361770-fc8f-42b1-9acb-20a20b6ff7c5"
      },
      "outputs": [
        {
          "output_type": "stream",
          "name": "stdout",
          "text": [
            "Requirement already satisfied: seaborn==0.13.2 in /usr/local/lib/python3.11/dist-packages (0.13.2)\n",
            "Requirement already satisfied: numpy!=1.24.0,>=1.20 in /usr/local/lib/python3.11/dist-packages (from seaborn==0.13.2) (1.26.4)\n",
            "Requirement already satisfied: pandas>=1.2 in /usr/local/lib/python3.11/dist-packages (from seaborn==0.13.2) (2.2.2)\n",
            "Requirement already satisfied: matplotlib!=3.6.1,>=3.4 in /usr/local/lib/python3.11/dist-packages (from seaborn==0.13.2) (3.10.0)\n",
            "Requirement already satisfied: contourpy>=1.0.1 in /usr/local/lib/python3.11/dist-packages (from matplotlib!=3.6.1,>=3.4->seaborn==0.13.2) (1.3.1)\n",
            "Requirement already satisfied: cycler>=0.10 in /usr/local/lib/python3.11/dist-packages (from matplotlib!=3.6.1,>=3.4->seaborn==0.13.2) (0.12.1)\n",
            "Requirement already satisfied: fonttools>=4.22.0 in /usr/local/lib/python3.11/dist-packages (from matplotlib!=3.6.1,>=3.4->seaborn==0.13.2) (4.55.3)\n",
            "Requirement already satisfied: kiwisolver>=1.3.1 in /usr/local/lib/python3.11/dist-packages (from matplotlib!=3.6.1,>=3.4->seaborn==0.13.2) (1.4.8)\n",
            "Requirement already satisfied: packaging>=20.0 in /usr/local/lib/python3.11/dist-packages (from matplotlib!=3.6.1,>=3.4->seaborn==0.13.2) (24.2)\n",
            "Requirement already satisfied: pillow>=8 in /usr/local/lib/python3.11/dist-packages (from matplotlib!=3.6.1,>=3.4->seaborn==0.13.2) (11.1.0)\n",
            "Requirement already satisfied: pyparsing>=2.3.1 in /usr/local/lib/python3.11/dist-packages (from matplotlib!=3.6.1,>=3.4->seaborn==0.13.2) (3.2.1)\n",
            "Requirement already satisfied: python-dateutil>=2.7 in /usr/local/lib/python3.11/dist-packages (from matplotlib!=3.6.1,>=3.4->seaborn==0.13.2) (2.8.2)\n",
            "Requirement already satisfied: pytz>=2020.1 in /usr/local/lib/python3.11/dist-packages (from pandas>=1.2->seaborn==0.13.2) (2024.2)\n",
            "Requirement already satisfied: tzdata>=2022.7 in /usr/local/lib/python3.11/dist-packages (from pandas>=1.2->seaborn==0.13.2) (2024.2)\n",
            "Requirement already satisfied: six>=1.5 in /usr/local/lib/python3.11/dist-packages (from python-dateutil>=2.7->matplotlib!=3.6.1,>=3.4->seaborn==0.13.2) (1.17.0)\n"
          ]
        }
      ],
      "source": [
        "import pandas as pd\n",
        "import io\n",
        "from google.colab import files\n",
        "!pip install seaborn==0.13.2\n",
        "import seaborn as sns\n",
        "import matplotlib.pyplot as plt"
      ]
    },
    {
      "cell_type": "code",
      "source": [
        "#if opening from git hub, run this code,\n",
        "#import requests\n",
        "\n",
        "#url = 'https://raw.githubusercontent.com/your_username/your_repo/main/your_dataset.csv'\n",
        "#response = requests.get(url)\n",
        "#with open('your_dataset.csv', 'wb') as file:\n",
        "    #file.write(response.content)\n",
        "\n",
        "#df = pd.read_csv('your_dataset.csv')\n"
      ],
      "metadata": {
        "id": "pDANkWQRP3Np"
      },
      "execution_count": null,
      "outputs": []
    },
    {
      "cell_type": "code",
      "source": [
        "file_path = '/content/DataSet_Thaba_Classification.csv'"
      ],
      "metadata": {
        "id": "QxxEu2IpItRM"
      },
      "execution_count": 12,
      "outputs": []
    },
    {
      "cell_type": "markdown",
      "source": [
        "Lets load in the Data"
      ],
      "metadata": {
        "id": "YtJ-VaKLXkhD"
      }
    },
    {
      "cell_type": "code",
      "source": [
        "Thaba= pd.read_csv(file_path)\n",
        "print(Thaba)"
      ],
      "metadata": {
        "id": "VX6DY_fyIJ2A",
        "colab": {
          "base_uri": "https://localhost:8080/"
        },
        "outputId": "35d9a84d-2f18-492c-9547-62b5dd37cb3a"
      },
      "execution_count": 13,
      "outputs": [
        {
          "output_type": "stream",
          "name": "stdout",
          "text": [
            "     ProjectCode BH_ID Motherhole  HoleType  MaxDepth  DepthFrom  DepthTo  \\\n",
            "0          J1103  SC06       SC06  borehole    639.35     619.33   619.36   \n",
            "1          J1098  SC11       SC11  borehole    460.20     397.47   397.53   \n",
            "2          J1492  MD16       MD16  borehole    278.80     151.53   151.69   \n",
            "3          J1474  MD09       MD09  borehole     52.23      48.38    48.78   \n",
            "4          J1097  SC63       SC63  borehole    333.75     330.35   330.59   \n",
            "...          ...   ...        ...       ...       ...        ...      ...   \n",
            "1200       J1120  ZK38       ZK38  borehole    639.35     216.90   217.07   \n",
            "1201       J1126  ZK44       ZK44  borehole    536.80     146.32   146.50   \n",
            "1202       J1130  ZK46       ZK46  borehole    644.00     170.89   171.10   \n",
            "1203       J1121  ZK48       ZK48  borehole    511.40      97.44    97.53   \n",
            "1204       J1126  ZK50       ZK50  borehole    615.80     170.32   170.51   \n",
            "\n",
            "            Date  Cr2O3_%  FeO_%  ...  CaO_%   P_%  Au_ICP_ppm  Pt_ICP_ppm  \\\n",
            "0     23. Dez 08    34.96  19.29  ...   0.89  0.00        0.01        0.53   \n",
            "1     23. Feb 09    39.64  20.77  ...   0.46  0.01        0.01        1.56   \n",
            "2     17. Sep 13    46.28  20.81  ...   0.80  0.00        0.01        0.04   \n",
            "3     09. Nov 09    39.53  19.65  ...   2.20  0.01        0.01        0.10   \n",
            "4     23. Feb 09    43.11  23.51  ...   0.43  0.00        0.01        0.55   \n",
            "...          ...      ...    ...  ...    ...   ...         ...         ...   \n",
            "1200  04. Aug 08    29.43  21.50  ...   2.48  0.00        0.01        1.35   \n",
            "1201  23. Dez 08    26.51  19.13  ...   2.69  0.00        0.01        0.39   \n",
            "1202  07. Feb 09    36.28  24.14  ...   0.93  0.00        0.01        1.42   \n",
            "1203  15. Jan 09    32.18  23.17  ...   2.37  0.00        0.01        1.76   \n",
            "1204  23. Jan 09    33.47  23.68  ...   1.89  0.00        0.01        1.54   \n",
            "\n",
            "      Pd_ICP_ppm  Rh_ICP_ppm  Ir_ICP_ppm  Ru_ICP_ppm  Stratigraphy  Filter  \n",
            "0           0.16        0.14        0.09        0.32           LG1       0  \n",
            "1           0.60        0.42        0.13        0.38           LG2       0  \n",
            "2           0.02        0.10        0.04        0.26           LG3       0  \n",
            "3           0.02        0.07        0.04        0.34           LG4       0  \n",
            "4           0.19        0.21        0.08        0.47           LG5       0  \n",
            "...          ...         ...         ...         ...           ...     ...  \n",
            "1200        0.15        0.18        0.08        0.32       MG4Zero       1  \n",
            "1201        0.09        0.16        0.13        0.29       MG4Zero       1  \n",
            "1202        0.12        0.28        0.16        0.45       MG4Zero       1  \n",
            "1203        0.13        0.23        0.16        0.43       MG4Zero       1  \n",
            "1204        0.14        0.20        0.13        0.37       MG4Zero       1  \n",
            "\n",
            "[1205 rows x 23 columns]\n"
          ]
        }
      ]
    },
    {
      "cell_type": "code",
      "source": [
        "Thaba.isnull().sum()"
      ],
      "metadata": {
        "id": "fGotb_9GWbns"
      },
      "execution_count": null,
      "outputs": []
    },
    {
      "cell_type": "code",
      "source": [
        "sns.heatmap(Thaba.isnull(), cbar=False, cmap='viridis')\n",
        "plt.show()"
      ],
      "metadata": {
        "id": "9tiI5xr5Wq_s"
      },
      "execution_count": null,
      "outputs": []
    },
    {
      "cell_type": "markdown",
      "source": [
        "As we can see from the .info above, we have 1205 samples, making this a small data set compared to most for this class. and we have about 80 samples missing in a few columns along with where in those columns the data is missing"
      ],
      "metadata": {
        "id": "-xr75dcPXprq"
      }
    },
    {
      "cell_type": "code",
      "source": [
        "Thaba.head()"
      ],
      "metadata": {
        "id": "XTku85TlJrFQ"
      },
      "execution_count": null,
      "outputs": []
    },
    {
      "cell_type": "code",
      "source": [
        "Thaba.describe()"
      ],
      "metadata": {
        "id": "MwXx354NILeg"
      },
      "execution_count": null,
      "outputs": []
    },
    {
      "cell_type": "code",
      "source": [
        "Thaba.shape"
      ],
      "metadata": {
        "id": "NBVlYJffIfs8"
      },
      "execution_count": null,
      "outputs": []
    },
    {
      "cell_type": "markdown",
      "source": [
        "The info above provides us a good overview of what the data looks like, its formating and size"
      ],
      "metadata": {
        "id": "sG5LStcYc4OG"
      }
    },
    {
      "cell_type": "markdown",
      "source": [
        "Now we will look at a pair plot and coorelation heat map of the data, there is a lot of it, but this shows some great information of the correlation of mineral composition to one another."
      ],
      "metadata": {
        "id": "1ISyy4qGdD2c"
      }
    },
    {
      "cell_type": "code",
      "source": [
        "\n",
        "numeric_columns = Thaba.select_dtypes(include='number').columns\n",
        "sns.pairplot(Thaba[numeric_columns])\n",
        "plt.show()"
      ],
      "metadata": {
        "id": "n1nOIvrQIhdx"
      },
      "execution_count": null,
      "outputs": []
    },
    {
      "cell_type": "code",
      "source": [
        "correlation_matrix = Thaba.corr(numeric_only=True)"
      ],
      "metadata": {
        "id": "azXj6kSlJUdD"
      },
      "execution_count": null,
      "outputs": []
    },
    {
      "cell_type": "code",
      "source": [
        "plt.figure(figsize=(10, 8))  # Adjust figure size as needed\n",
        "sns.heatmap(correlation_matrix, annot=True, cmap='coolwarm', fmt=\".2f\")\n",
        "plt.title(\"Correlation Matrix Heatmap\")\n",
        "plt.show()"
      ],
      "metadata": {
        "id": "iSkw7rpdJ6Is"
      },
      "execution_count": null,
      "outputs": []
    },
    {
      "cell_type": "code",
      "source": [
        "sns.ecdfplot(data=Thaba, x=\"MaxDepth\")\n",
        "plt.show()"
      ],
      "metadata": {
        "id": "tExm4KAvT5t-"
      },
      "execution_count": null,
      "outputs": []
    }
  ]
}